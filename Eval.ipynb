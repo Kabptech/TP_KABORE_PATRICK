{
 "cells": [
  {
   "cell_type": "markdown",
   "id": "0efeb58e",
   "metadata": {},
   "source": [
    "## Projet de Machine Learning "
   ]
  },
  {
   "cell_type": "code",
   "execution_count": 1014,
   "id": "84ac00eb",
   "metadata": {},
   "outputs": [],
   "source": [
    "import findspark\n",
    "findspark.init()\n",
    "findspark.find()\n",
    "import pyspark\n",
    "\n",
    "from pyspark.sql import SparkSession\n",
    "import joblib\n",
    "spark=SparkSession.builder.master(\"local\").appName(\"TP_MLFE\").getOrCreate()\n",
    "import sys\n",
    "from pyspark.sql.functions import *"
   ]
  },
  {
   "cell_type": "code",
   "execution_count": 973,
   "id": "237977cd",
   "metadata": {},
   "outputs": [],
   "source": [
    "Dataset1 = spark.read.format(\"csv\").option(\"sep\",\",\").option(\"inferSchema\", \"true\").option(\"header\", \"true\").load(\"ccdefault.csv\").withColumnRenamed(\"PAY_0\", \"PAY_1\").withColumnRenamed(\"DEFAULT\", \"label\")"
   ]
  },
  {
   "cell_type": "code",
   "execution_count": 974,
   "id": "e0f64d8b",
   "metadata": {},
   "outputs": [],
   "source": [
    "from pyspark.sql.functions import isnan, when, count, col"
   ]
  },
  {
   "cell_type": "code",
   "execution_count": 975,
   "id": "66c0485e",
   "metadata": {},
   "outputs": [
    {
     "name": "stdout",
     "output_type": "stream",
     "text": [
      "+---+---------+---+---------+--------+---+-----+-----+-----+-----+-----+-----+---------+---------+---------+---------+---------+---------+--------+--------+--------+--------+--------+--------+-----+\n",
      "| ID|LIMIT_BAL|SEX|EDUCATION|MARRIAGE|AGE|PAY_1|PAY_2|PAY_3|PAY_4|PAY_5|PAY_6|BILL_AMT1|BILL_AMT2|BILL_AMT3|BILL_AMT4|BILL_AMT5|BILL_AMT6|PAY_AMT1|PAY_AMT2|PAY_AMT3|PAY_AMT4|PAY_AMT5|PAY_AMT6|label|\n",
      "+---+---------+---+---------+--------+---+-----+-----+-----+-----+-----+-----+---------+---------+---------+---------+---------+---------+--------+--------+--------+--------+--------+--------+-----+\n",
      "|  0|        0|  0|        0|       0|  0|    0|    0|    0|    0|    0|    0|        0|        0|        0|        0|        0|        0|       0|       0|       0|       0|       0|       0|    0|\n",
      "+---+---------+---+---------+--------+---+-----+-----+-----+-----+-----+-----+---------+---------+---------+---------+---------+---------+--------+--------+--------+--------+--------+--------+-----+\n",
      "\n"
     ]
    }
   ],
   "source": [
    "Dataset1.select([count(when(isnan(c), c)).alias(c) for c in rawCreditCardDataset.columns]).show()"
   ]
  },
  {
   "cell_type": "code",
   "execution_count": 976,
   "id": "96d24081",
   "metadata": {},
   "outputs": [],
   "source": [
    "Dataset2 = Dataset1.withColumn(\"EDUCATION\", when(col(\"EDUCATION\") > 3, 0).otherwise(col(\"EDUCATION\"))).withColumn(\"MARRIAGE\", when(col(\"MARRIAGE\") == 0, 3).otherwise(col(\"MARRIAGE\")))"
   ]
  },
  {
   "cell_type": "code",
   "execution_count": 977,
   "id": "a8247342",
   "metadata": {},
   "outputs": [],
   "source": [
    "for i in range(1,7):\n",
    "    colName = \"PAY_\"+str(i)\n",
    "    Dataset2 = Dataset2.withColumn(colName, when(col(colName) < 0, 0).otherwise(col(colName)))"
   ]
  },
  {
   "cell_type": "code",
   "execution_count": 978,
   "id": "65b8a649",
   "metadata": {},
   "outputs": [
    {
     "name": "stdout",
     "output_type": "stream",
     "text": [
      "+-------+-----------------+------------------+------------------+------------------+------------------+-----------------+------------------+-------------------+-------------------+-------------------+------------------+-------------------+-----------------+-----------------+-----------------+------------------+-----------------+----------------+-----------------+------------------+-----------------+------------------+------------------+-----------------+-------------------+\n",
      "|summary|               ID|         LIMIT_BAL|               SEX|         EDUCATION|          MARRIAGE|              AGE|             PAY_1|              PAY_2|              PAY_3|              PAY_4|             PAY_5|              PAY_6|        BILL_AMT1|        BILL_AMT2|        BILL_AMT3|         BILL_AMT4|        BILL_AMT5|       BILL_AMT6|         PAY_AMT1|          PAY_AMT2|         PAY_AMT3|          PAY_AMT4|          PAY_AMT5|         PAY_AMT6|              label|\n",
      "+-------+-----------------+------------------+------------------+------------------+------------------+-----------------+------------------+-------------------+-------------------+-------------------+------------------+-------------------+-----------------+-----------------+-----------------+------------------+-----------------+----------------+-----------------+------------------+-----------------+------------------+------------------+-----------------+-------------------+\n",
      "|  count|            30000|             30000|             30000|             30000|             30000|            30000|             30000|              30000|              30000|              30000|             30000|              30000|            30000|            30000|            30000|             30000|            30000|           30000|            30000|             30000|            30000|             30000|             30000|            30000|              30000|\n",
      "|   mean|          15000.5|167484.32266666667|1.6037333333333332|1.7798666666666667|1.5572666666666666|          35.4855|0.3567666666666667|0.32003333333333334|0.30406666666666665|0.25876666666666664|            0.2215|0.22656666666666667|       51223.3309|49179.07516666667|       47013.1548| 43262.94896666666|40311.40096666667|      38871.7604|        5663.5805|         5921.1635|        5225.6815| 4826.076866666666| 4799.387633333334|5215.502566666667|             0.2212|\n",
      "| stddev|8660.398374208891|129747.66156720246|0.4891291960902602|0.7284863338687309|0.5214047605456819|9.217904068090155|0.7605941727834076| 0.8017273587578316| 0.7905889976810493| 0.7611126429800439|0.7177197136670046| 0.7154378197519015|73635.86057552966|71173.76878252832|69349.38742703677|64332.856133916444|60797.15577026471|59554.1075367459|16563.28035402577|23040.870402057186|17606.96146980311|15666.159744032062|15278.305679144742|17777.46577543531|0.41506180569093254|\n",
      "|    min|                1|             10000|                 1|                 0|                 1|               21|                 0|                  0|                  0|                  0|                 0|                  0|          -165580|           -69777|          -157264|           -170000|           -81334|         -339603|                0|                 0|                0|                 0|                 0|                0|                  0|\n",
      "|    max|            30000|           1000000|                 2|                 3|                 3|               79|                 8|                  8|                  8|                  8|                 8|                  8|           964511|           983931|          1664089|            891586|           927171|          961664|           873552|           1684259|           896040|            621000|            426529|           528666|                  1|\n",
      "+-------+-----------------+------------------+------------------+------------------+------------------+-----------------+------------------+-------------------+-------------------+-------------------+------------------+-------------------+-----------------+-----------------+-----------------+------------------+-----------------+----------------+-----------------+------------------+-----------------+------------------+------------------+-----------------+-------------------+\n",
      "\n"
     ]
    }
   ],
   "source": [
    "Dataset2.describe().show()"
   ]
  },
  {
   "cell_type": "code",
   "execution_count": 979,
   "id": "35967f3a",
   "metadata": {},
   "outputs": [
    {
     "name": "stdout",
     "output_type": "stream",
     "text": [
      "+---------+------------------+\n",
      "|EDUCATION|    LIMIT_BAL_MEAN|\n",
      "+---------+------------------+\n",
      "|        1|212956.06991025034|\n",
      "|        3|126550.27049013626|\n",
      "|        2| 147062.4376336422|\n",
      "|        0| 181316.2393162393|\n",
      "+---------+------------------+\n",
      "\n"
     ]
    }
   ],
   "source": [
    "Dataset2.groupBy(\"EDUCATION\").agg(avg(\"LIMIT_BAL\").alias(\"LIMIT_BAL_MEAN\")).show()"
   ]
  },
  {
   "cell_type": "code",
   "execution_count": 980,
   "id": "d06cb735",
   "metadata": {},
   "outputs": [
    {
     "name": "stdout",
     "output_type": "stream",
     "text": [
      "+-----+---+-----+\n",
      "|label|SEX|count|\n",
      "+-----+---+-----+\n",
      "|    0|  1| 9015|\n",
      "|    0|  2|14349|\n",
      "|    1|  1| 2873|\n",
      "|    1|  2| 3763|\n",
      "+-----+---+-----+\n",
      "\n"
     ]
    }
   ],
   "source": [
    "Dataset2.groupBy(\"label\", \"SEX\").count().sort(asc(\"label\"), asc(\"SEX\")).show()"
   ]
  },
  {
   "cell_type": "code",
   "execution_count": 981,
   "id": "6f934e7b",
   "metadata": {},
   "outputs": [
    {
     "name": "stdout",
     "output_type": "stream",
     "text": [
      "+-------+------------------+-----------------+------------------+\n",
      "|summary|         LIMIT_BAL|              AGE|             PAY_1|\n",
      "+-------+------------------+-----------------+------------------+\n",
      "|  count|             30000|            30000|             30000|\n",
      "|   mean|167484.32266666667|          35.4855|0.3567666666666667|\n",
      "| stddev|129747.66156720246|9.217904068090155|0.7605941727834076|\n",
      "|    min|             10000|               21|                 0|\n",
      "|    max|           1000000|               79|                 8|\n",
      "+-------+------------------+-----------------+------------------+\n",
      "\n"
     ]
    }
   ],
   "source": [
    "Dataset2.describe(\"LIMIT_BAL\", \"AGE\", \"PAY_1\").show()"
   ]
  },
  {
   "cell_type": "code",
   "execution_count": 982,
   "id": "d3f39bf5",
   "metadata": {},
   "outputs": [
    {
     "name": "stdout",
     "output_type": "stream",
     "text": [
      "+-----+--------+-----+\n",
      "|label|MARRIAGE|count|\n",
      "+-----+--------+-----+\n",
      "|    0|       1|10453|\n",
      "|    0|       2|12623|\n",
      "|    0|       3|  288|\n",
      "|    1|       1| 3206|\n",
      "|    1|       2| 3341|\n",
      "|    1|       3|   89|\n",
      "+-----+--------+-----+\n",
      "\n"
     ]
    }
   ],
   "source": [
    "Dataset2.groupBy(\"label\", \"MARRIAGE\").count().sort(asc(\"label\"), asc(\"MARRIAGE\")).show()"
   ]
  },
  {
   "cell_type": "code",
   "execution_count": 983,
   "id": "43792dad",
   "metadata": {},
   "outputs": [
    {
     "name": "stdout",
     "output_type": "stream",
     "text": [
      "+-----+---------+-----+\n",
      "|label|EDUCATION|count|\n",
      "+-----+---------+-----+\n",
      "|    0|        0|  435|\n",
      "|    0|        1| 8549|\n",
      "|    0|        2|10700|\n",
      "|    0|        3| 3680|\n",
      "|    1|        0|   33|\n",
      "|    1|        1| 2036|\n",
      "|    1|        2| 3330|\n",
      "|    1|        3| 1237|\n",
      "+-----+---------+-----+\n",
      "\n"
     ]
    }
   ],
   "source": [
    "Dataset2.groupBy(\"label\", \"EDUCATION\").count().sort(asc(\"label\"), asc(\"EDUCATION\")).show()"
   ]
  },
  {
   "cell_type": "code",
   "execution_count": 984,
   "id": "3979bc60",
   "metadata": {},
   "outputs": [],
   "source": [
    "from pyspark.ml.feature import VectorAssembler,StandardScaler\n",
    "from pyspark.ml.feature import OneHotEncoder\n",
    "va = VectorAssembler().setInputCols([\"LIMIT_BAL\", \"AGE\", \"EDUCATION\", \"SEX\", \"MARRIAGE\", \"label\"]).setOutputCol(\"feature\")                                 "
   ]
  },
  {
   "cell_type": "code",
   "execution_count": 985,
   "id": "bf4be75e",
   "metadata": {},
   "outputs": [],
   "source": [
    "numericColonn = [\"LIMIT_BAL\"]"
   ]
  },
  {
   "cell_type": "code",
   "execution_count": 986,
   "id": "d34f9fa5",
   "metadata": {},
   "outputs": [],
   "source": [
    "categoricColonns = [\"EDUCATION\", \"SEX\", \"MARRIAGE\", \"PAY_1\", \"PAY_2\", \"PAY_3\", \"PAY_4\", \"PAY_5\", \"PAY_6\"]"
   ]
  },
  {
   "cell_type": "code",
   "execution_count": 987,
   "id": "86c0d428",
   "metadata": {},
   "outputs": [],
   "source": [
    "categoricColumnsOhe = list(map(lambda x :x+\"_OHE\",categoricColumns))"
   ]
  },
  {
   "cell_type": "code",
   "execution_count": 988,
   "id": "e5b9f771",
   "metadata": {},
   "outputs": [],
   "source": [
    "va = VectorAssembler().setInputCols(numericColonn).setOutputCol(\"numerical_attributes\")"
   ]
  },
  {
   "cell_type": "code",
   "execution_count": 989,
   "id": "e8a70579",
   "metadata": {},
   "outputs": [],
   "source": [
    "scaler = StandardScaler().setInputCol(\"numerical_attributes\").setOutputCol(\"scaled_attributes\")"
   ]
  },
  {
   "cell_type": "code",
   "execution_count": 990,
   "id": "514c82ee",
   "metadata": {},
   "outputs": [],
   "source": [
    "encoder = OneHotEncoder().setInputCols(categoricColonns).setOutputCols(categoricColonnsOhe)"
   ]
  },
  {
   "cell_type": "markdown",
   "id": "c87b9a62",
   "metadata": {},
   "source": [
    "## Creation des Pipeline"
   ]
  },
  {
   "cell_type": "code",
   "execution_count": 991,
   "id": "4d675db3",
   "metadata": {},
   "outputs": [],
   "source": [
    "from pyspark.ml import Pipeline, PipelineModel"
   ]
  },
  {
   "cell_type": "code",
   "execution_count": 992,
   "id": "058e736e",
   "metadata": {},
   "outputs": [],
   "source": [
    "Pipeline1 =  Pipeline().setStages([va, scaler])\n",
    "Pipeline2 =  Pipeline().setStages([encoder])\n",
    "pipeline =  Pipeline().setStages([Pipeline1, Pipeline2])\n",
    "DatasetF = pipeline.fit(creditCardDataset).transform(creditCardDataset)"
   ]
  },
  {
   "cell_type": "markdown",
   "id": "bd082a35",
   "metadata": {},
   "source": [
    "## Creation du dataset Final"
   ]
  },
  {
   "cell_type": "code",
   "execution_count": 993,
   "id": "04af3999",
   "metadata": {},
   "outputs": [],
   "source": [
    "datasetFINAL = VectorAssembler().setInputCols([(\"scaled_attributes\")] + categoricColonnsOhe).setOutputCol(\"features\").transform(DatasetF).select(\"features\", \"label\")"
   ]
  },
  {
   "cell_type": "code",
   "execution_count": 994,
   "id": "04175bab",
   "metadata": {},
   "outputs": [
    {
     "name": "stdout",
     "output_type": "stream",
     "text": [
      "+-----------------------------------------------------------------------------------------+-----+\n",
      "|features                                                                                 |label|\n",
      "+-----------------------------------------------------------------------------------------+-----+\n",
      "|(57,[0,3,7,11,19,25,33,41,49],[0.15414535998894324,1.0,1.0,1.0,1.0,1.0,1.0,1.0,1.0])     |1    |\n",
      "|(57,[0,3,8,9,19,25,33,41,51],[0.9248721599336596,1.0,1.0,1.0,1.0,1.0,1.0,1.0,1.0])       |1    |\n",
      "|(57,[0,3,8,9,17,25,33,41,49],[0.6936541199502446,1.0,1.0,1.0,1.0,1.0,1.0,1.0,1.0])       |0    |\n",
      "|(57,[0,3,7,9,17,25,33,41,49],[0.38536339997235813,1.0,1.0,1.0,1.0,1.0,1.0,1.0,1.0])      |0    |\n",
      "|(57,[0,3,5,7,9,17,25,33,41,49],[0.38536339997235813,1.0,1.0,1.0,1.0,1.0,1.0,1.0,1.0,1.0])|0    |\n",
      "+-----------------------------------------------------------------------------------------+-----+\n",
      "only showing top 5 rows\n",
      "\n"
     ]
    }
   ],
   "source": [
    "datasetFINAL.show(5, False)"
   ]
  },
  {
   "cell_type": "code",
   "execution_count": 995,
   "id": "021cd6e7",
   "metadata": {},
   "outputs": [],
   "source": [
    "trainDS, testDS = datasetFINAL.randomSplit([0.8, 0.2])"
   ]
  },
  {
   "cell_type": "code",
   "execution_count": 996,
   "id": "ffc5fb9e",
   "metadata": {},
   "outputs": [],
   "source": [
    "from pyspark.ml.classification import LogisticRegression\n",
    "from pyspark.ml.evaluation import BinaryClassificationEvaluator\n",
    "from pyspark.mllib.evaluation import BinaryClassificationMetrics\n",
    "from pyspark.mllib.evaluation import MulticlassMetrics\n",
    "from pyspark.ml.tuning import ParamGridBuilder\n",
    "from pyspark.ml.tuning import CrossValidator\n",
    "from pyspark.sql import DataFrame\n",
    "from pyspark.mllib.regression import LabeledPoint\n",
    "from pyspark.ml.evaluation import MulticlassClassificationEvaluator"
   ]
  },
  {
   "cell_type": "markdown",
   "id": "8d66576f",
   "metadata": {},
   "source": [
    "## Regression Logistique"
   ]
  },
  {
   "cell_type": "code",
   "execution_count": 931,
   "id": "2aca64a0",
   "metadata": {},
   "outputs": [],
   "source": [
    "lr = LogisticRegression().setMaxIter(10)"
   ]
  },
  {
   "cell_type": "code",
   "execution_count": 932,
   "id": "82533319",
   "metadata": {},
   "outputs": [],
   "source": [
    "paramGrid = ParamGridBuilder().addGrid(lr.regParam,[0.2, 0.1, 0.0]).addGrid(lr.elasticNetParam,[0.2, 0.1, 0.0]).build()"
   ]
  },
  {
   "cell_type": "code",
   "execution_count": 933,
   "id": "4f37ad87",
   "metadata": {},
   "outputs": [],
   "source": [
    "evaluator = BinaryClassificationEvaluator()"
   ]
  },
  {
   "cell_type": "code",
   "execution_count": 934,
   "id": "3ab060fc",
   "metadata": {},
   "outputs": [],
   "source": [
    "v = CrossValidator().setEstimator(lr).setEstimatorParamMaps(paramGrid).setEvaluator(evaluator).setNumFolds(4)"
   ]
  },
  {
   "cell_type": "code",
   "execution_count": 935,
   "id": "2729fcfc",
   "metadata": {},
   "outputs": [],
   "source": [
    "lrModel = v.fit(trainDS)"
   ]
  },
  {
   "cell_type": "code",
   "execution_count": 936,
   "id": "d4a1d893",
   "metadata": {},
   "outputs": [],
   "source": [
    "best_model_lr = lrModel.bestModel.summary"
   ]
  },
  {
   "cell_type": "code",
   "execution_count": 937,
   "id": "4ba7e3fe",
   "metadata": {},
   "outputs": [],
   "source": [
    "predictions = lrModel.transform(testDS)"
   ]
  },
  {
   "cell_type": "code",
   "execution_count": 938,
   "id": "a3f1acee",
   "metadata": {},
   "outputs": [
    {
     "name": "stdout",
     "output_type": "stream",
     "text": [
      "+-----+----------+-----+\n",
      "|label|prediction|count|\n",
      "+-----+----------+-----+\n",
      "|    1|       0.0|  927|\n",
      "|    0|       0.0| 4511|\n",
      "|    1|       1.0|  386|\n",
      "|    0|       1.0|  185|\n",
      "+-----+----------+-----+\n",
      "\n"
     ]
    }
   ],
   "source": [
    "predictions.groupBy('label','prediction').count().show()"
   ]
  },
  {
   "cell_type": "code",
   "execution_count": 939,
   "id": "75c12492",
   "metadata": {},
   "outputs": [
    {
     "name": "stdout",
     "output_type": "stream",
     "text": [
      "Test Area Under ROC 0.7662158554670837\n"
     ]
    }
   ],
   "source": [
    "print('Test Area Under ROC', evaluator.evaluate(predictions))"
   ]
  },
  {
   "cell_type": "code",
   "execution_count": 944,
   "id": "2a60858b",
   "metadata": {},
   "outputs": [
    {
     "data": {
      "text/plain": [
       "0.8149442502912299"
      ]
     },
     "execution_count": 944,
     "metadata": {},
     "output_type": "execute_result"
    }
   ],
   "source": [
    "acc=(4511+386)/(927+4511+386+185)\n",
    "acc"
   ]
  },
  {
   "cell_type": "code",
   "execution_count": 941,
   "id": "5d2c4e3a",
   "metadata": {},
   "outputs": [],
   "source": [
    "my_mc_lr = MulticlassClassificationEvaluator(predictionCol='prediction', labelCol='label', metricName='f1')"
   ]
  },
  {
   "cell_type": "code",
   "execution_count": 942,
   "id": "a4736e89",
   "metadata": {},
   "outputs": [
    {
     "data": {
      "text/plain": [
       "0.7852775910661873"
      ]
     },
     "execution_count": 942,
     "metadata": {},
     "output_type": "execute_result"
    }
   ],
   "source": [
    "my_mc_lr.evaluate(predictions)"
   ]
  },
  {
   "cell_type": "code",
   "execution_count": null,
   "id": "262db585",
   "metadata": {},
   "outputs": [],
   "source": []
  },
  {
   "cell_type": "markdown",
   "id": "aa9b5c98",
   "metadata": {},
   "source": [
    "## Arbre de decision"
   ]
  },
  {
   "cell_type": "code",
   "execution_count": 997,
   "id": "2ca370c0",
   "metadata": {},
   "outputs": [],
   "source": [
    "from pyspark.ml.classification import DecisionTreeClassifier"
   ]
  },
  {
   "cell_type": "code",
   "execution_count": 998,
   "id": "973835a7",
   "metadata": {},
   "outputs": [],
   "source": [
    "dt = DecisionTreeClassifier()"
   ]
  },
  {
   "cell_type": "code",
   "execution_count": 999,
   "id": "5843eefd",
   "metadata": {},
   "outputs": [],
   "source": [
    "paramGrid =ParamGridBuilder().addGrid(dt.maxDepth, [4, 5, 6, 7, 8, 9, 10]).build()"
   ]
  },
  {
   "cell_type": "code",
   "execution_count": 1000,
   "id": "fbea1fa5",
   "metadata": {},
   "outputs": [],
   "source": [
    "evaluator = BinaryClassificationEvaluator()"
   ]
  },
  {
   "cell_type": "code",
   "execution_count": 1001,
   "id": "35da6be7",
   "metadata": {},
   "outputs": [],
   "source": [
    "cv = CrossValidator().setEstimator(dt).setEstimatorParamMaps(paramGrid).setEvaluator(evaluator).setNumFolds(4)"
   ]
  },
  {
   "cell_type": "code",
   "execution_count": 1002,
   "id": "4ac8ae21",
   "metadata": {},
   "outputs": [],
   "source": [
    "dtModel = cv.fit(trainDS)"
   ]
  },
  {
   "cell_type": "code",
   "execution_count": 1003,
   "id": "0d810679",
   "metadata": {},
   "outputs": [],
   "source": [
    "predictions = dtModel.transform(testDS)"
   ]
  },
  {
   "cell_type": "code",
   "execution_count": 1008,
   "id": "3774f4da",
   "metadata": {},
   "outputs": [
    {
     "name": "stdout",
     "output_type": "stream",
     "text": [
      "Test Area Under ROC 0.35656290126833085\n"
     ]
    }
   ],
   "source": [
    "print('Test Area Under ROC', evaluator.evaluate(predictions))"
   ]
  },
  {
   "cell_type": "code",
   "execution_count": 1005,
   "id": "f71e62a8",
   "metadata": {},
   "outputs": [
    {
     "name": "stdout",
     "output_type": "stream",
     "text": [
      "+-----+----------+-----+\n",
      "|label|prediction|count|\n",
      "+-----+----------+-----+\n",
      "|    1|       0.0|  898|\n",
      "|    0|       0.0| 4430|\n",
      "|    1|       1.0|  463|\n",
      "|    0|       1.0|  265|\n",
      "+-----+----------+-----+\n",
      "\n"
     ]
    }
   ],
   "source": [
    "predictions.groupBy('label','prediction').count().show()"
   ]
  },
  {
   "cell_type": "code",
   "execution_count": 1007,
   "id": "c4d08462",
   "metadata": {},
   "outputs": [
    {
     "data": {
      "text/plain": [
       "0.8079590488771466"
      ]
     },
     "execution_count": 1007,
     "metadata": {},
     "output_type": "execute_result"
    }
   ],
   "source": [
    "(4430+463)/(4430+463+898+265)"
   ]
  },
  {
   "cell_type": "code",
   "execution_count": 955,
   "id": "b8d609b7",
   "metadata": {},
   "outputs": [],
   "source": [
    "my_mc_lr = MulticlassClassificationEvaluator(predictionCol='prediction', labelCol='label', metricName='f1')"
   ]
  },
  {
   "cell_type": "code",
   "execution_count": 956,
   "id": "e33ea102",
   "metadata": {},
   "outputs": [
    {
     "data": {
      "text/plain": [
       "0.7946836065641139"
      ]
     },
     "execution_count": 956,
     "metadata": {},
     "output_type": "execute_result"
    }
   ],
   "source": [
    "my_mc_lr.evaluate(predictions)"
   ]
  },
  {
   "cell_type": "code",
   "execution_count": null,
   "id": "93f5b661",
   "metadata": {},
   "outputs": [],
   "source": []
  },
  {
   "cell_type": "markdown",
   "id": "8e3cb10e",
   "metadata": {},
   "source": [
    "## RandomForest"
   ]
  },
  {
   "cell_type": "code",
   "execution_count": 957,
   "id": "9820dfe0",
   "metadata": {},
   "outputs": [],
   "source": [
    "from pyspark.ml.classification import RandomForestClassifier"
   ]
  },
  {
   "cell_type": "code",
   "execution_count": 958,
   "id": "c7e33ee5",
   "metadata": {},
   "outputs": [],
   "source": [
    "rf = RandomForestClassifier()"
   ]
  },
  {
   "cell_type": "code",
   "execution_count": 959,
   "id": "3867b42e",
   "metadata": {},
   "outputs": [],
   "source": [
    "paramGrid = ParamGridBuilder().addGrid(rf.maxDepth,[10, 15]).addGrid(rf.featureSubsetStrategy,[\"all\", \"sqrt\"]).addGrid(rf.numTrees,[10, 15,20]).build()"
   ]
  },
  {
   "cell_type": "code",
   "execution_count": 960,
   "id": "db5349b5",
   "metadata": {},
   "outputs": [],
   "source": [
    "valuator = BinaryClassificationEvaluator()"
   ]
  },
  {
   "cell_type": "code",
   "execution_count": 961,
   "id": "7213ec77",
   "metadata": {},
   "outputs": [],
   "source": [
    "cv = CrossValidator().setEstimator(rf).setEstimatorParamMaps(paramGrid).setEvaluator(evaluator).setNumFolds(4)"
   ]
  },
  {
   "cell_type": "code",
   "execution_count": 962,
   "id": "549e4672",
   "metadata": {},
   "outputs": [],
   "source": [
    "rfModel = cv.fit(trainDS)"
   ]
  },
  {
   "cell_type": "code",
   "execution_count": 963,
   "id": "5a92fbf6",
   "metadata": {},
   "outputs": [],
   "source": [
    "predictions = rfModel.transform(testDS)"
   ]
  },
  {
   "cell_type": "code",
   "execution_count": 964,
   "id": "42b840af",
   "metadata": {},
   "outputs": [
    {
     "name": "stdout",
     "output_type": "stream",
     "text": [
      "Test Area Under ROC: 0.7710553357786315\n"
     ]
    }
   ],
   "source": [
    "print(\"Test Area Under ROC: \" + str(evaluator.evaluate(predictions, {evaluator.metricName: \"areaUnderROC\"})))"
   ]
  },
  {
   "cell_type": "code",
   "execution_count": 965,
   "id": "8a51ae24",
   "metadata": {},
   "outputs": [
    {
     "name": "stdout",
     "output_type": "stream",
     "text": [
      "+-----+----------+-----+\n",
      "|label|prediction|count|\n",
      "+-----+----------+-----+\n",
      "|    1|       0.0|  837|\n",
      "|    0|       0.0| 4449|\n",
      "|    1|       1.0|  476|\n",
      "|    0|       1.0|  247|\n",
      "+-----+----------+-----+\n",
      "\n"
     ]
    }
   ],
   "source": [
    "predictions.groupBy('label','prediction').count().show()"
   ]
  },
  {
   "cell_type": "code",
   "execution_count": 969,
   "id": "5d14c5c4",
   "metadata": {},
   "outputs": [
    {
     "data": {
      "text/plain": [
       "0.81960392744217"
      ]
     },
     "execution_count": 969,
     "metadata": {},
     "output_type": "execute_result"
    }
   ],
   "source": [
    "(4449+476)/(837+4449+476+247)"
   ]
  },
  {
   "cell_type": "code",
   "execution_count": 970,
   "id": "1864f856",
   "metadata": {},
   "outputs": [],
   "source": [
    "my_mc_lr = MulticlassClassificationEvaluator(predictionCol='prediction', labelCol='label', metricName='f1')"
   ]
  },
  {
   "cell_type": "code",
   "execution_count": 971,
   "id": "08babd36",
   "metadata": {},
   "outputs": [
    {
     "data": {
      "text/plain": [
       "0.7987972700659345"
      ]
     },
     "execution_count": 971,
     "metadata": {},
     "output_type": "execute_result"
    }
   ],
   "source": [
    "my_mc_lr.evaluate(predictions)"
   ]
  },
  {
   "cell_type": "code",
   "execution_count": null,
   "id": "9e6d00ab",
   "metadata": {},
   "outputs": [],
   "source": []
  },
  {
   "cell_type": "code",
   "execution_count": null,
   "id": "468b73fe",
   "metadata": {},
   "outputs": [],
   "source": []
  }
 ],
 "metadata": {
  "kernelspec": {
   "display_name": "Python 3",
   "language": "python",
   "name": "python3"
  },
  "language_info": {
   "codemirror_mode": {
    "name": "ipython",
    "version": 3
   },
   "file_extension": ".py",
   "mimetype": "text/x-python",
   "name": "python",
   "nbconvert_exporter": "python",
   "pygments_lexer": "ipython3",
   "version": "3.8.8"
  }
 },
 "nbformat": 4,
 "nbformat_minor": 5
}
